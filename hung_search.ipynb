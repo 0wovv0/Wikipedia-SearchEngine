{
 "cells": [
  {
   "cell_type": "code",
   "execution_count": 1,
   "metadata": {},
   "outputs": [],
   "source": [
    "from pyspark.sql import SparkSession\n",
    "from pyspark.sql.functions import col,when,sum, explode"
   ]
  },
  {
   "cell_type": "code",
   "execution_count": 2,
   "metadata": {},
   "outputs": [],
   "source": [
    "spark = SparkSession.builder \\\n",
    "    .appName(\"Spark XML Example\") \\\n",
    "    .config(\"spark.jars\", 'C:\\SPARK\\spark-xml_2.12-0.16.0.jar') \\\n",
    "    .config(\"spark.jars.packages\", \"com.johnsnowlabs.nlp:spark-nlp_2.12:4.4.3\") \\\n",
    "    .config(\"spark.jars.repositories\", \"https://repo1.maven.org/maven2/\") \\\n",
    "    .config(\"spark.driver.memory\", \"4g\") \\\n",
    "    .config(\"spark.executor.memory\", \"4g\") \\\n",
    "    .master(\"local[*]\") \\\n",
    "    .getOrCreate()\n",
    "\n",
    "df = spark.read.parquet(\"parquetFile/final.parquet\")\n",
    "\n",
    "# sorted_df = df.orderBy(\"word\")\n"
   ]
  },
  {
   "cell_type": "code",
   "execution_count": null,
   "metadata": {},
   "outputs": [],
   "source": [
    "from pyspark.sql.functions import col\n",
    "\n",
    "# Hàm tìm kiếm dựa trên các DataFrame con theo chữ cái đầu tiên của từ khóa\n",
    "def search_in_loaded_dfs(query: str):\n",
    "    # Lấy chữ cái đầu tiên của query (chữ cái đầu sẽ quyết định DataFrame con)\n",
    "    first_letter = query[0].lower()\n",
    "    \n",
    "    # Kiểm tra nếu DataFrame tương ứng với chữ cái đầu tiên có trong dictionary\n",
    "    if first_letter in dfs_dict:\n",
    "        # Lấy DataFrame con theo chữ cái đầu tiên\n",
    "        df = dfs_dict[first_letter]\n",
    "        \n",
    "        # Tìm kiếm từ khóa trong cột 'word'\n",
    "        result_df = df.filter(col(\"word\") == query)\n",
    "        \n",
    "        return result_df\n",
    "    else:\n",
    "        print(f\"Không tìm thấy DataFrame cho chữ cái đầu tiên '{first_letter}'\")\n",
    "        return None\n",
    "\n",
    "# Giả sử bạn đã có các DataFrame con như a_df, b_df, c_df, ...\n",
    "# Tạo một dictionary chứa các DataFrame con để tìm kiếm\n",
    "dfs_dict = {\n",
    "    \"a\": a_df,\n",
    "    \"b\": b_df,\n",
    "    \"c\": c_df,\n",
    "    # Thêm các DataFrame con tương ứng với các chữ cái khác\n",
    "}\n",
    "\n",
    "# Từ khóa cần tìm\n",
    "query = \"computer\"\n",
    "\n",
    "# Tìm kiếm trong DataFrame tương ứng\n",
    "result_df = search_in_loaded_dfs(query, dfs_dict)\n",
    "\n",
    "# Hiển thị kết quả tìm kiếm (nếu có)\n",
    "if result_df is not None:\n",
    "    result_df.show(truncate=False)\n"
   ]
  },
  {
   "cell_type": "code",
   "execution_count": 4,
   "metadata": {},
   "outputs": [
    {
     "name": "stdout",
     "output_type": "stream",
     "text": [
      "+----------------------------+-----------+\n",
      "|doc_id                      |total_score|\n",
      "+----------------------------+-----------+\n",
      "|individualist anarchism     |835        |\n",
      "|anarchism                   |557        |\n",
      "|traditional chinese medicine|522        |\n",
      "|anarchist communism         |353        |\n",
      "|traditional anarchism       |306        |\n",
      "+----------------------------+-----------+\n",
      "\n"
     ]
    }
   ],
   "source": [
    "import re\n",
    "\n",
    "string = \"Anarchism-traditional, Anarchist\"\n",
    "\n",
    "# Bước 1: Chuyển tất cả ký tự về chữ thường\n",
    "string = string.lower()\n",
    "\n",
    "# Bước 2: Thay thế ký tự đặc biệt bằng khoảng trắng\n",
    "string = re.sub(r\"[^a-zA-Z0-9]\", \" \", string)\n",
    "\n",
    "# Bước 3: Tách chuỗi thành danh sách các từ\n",
    "key_words = string.split()\n",
    "\n",
    "result_df = df.filter(col(\"word\").isin(key_words))\n",
    "\n",
    "# Tách cột locations (explode để xử lý từng phần tử)\n",
    "exploded_df = result_df.withColumn(\"location_item\", explode(col(\"locations\")))\n",
    "\n",
    "# Trích xuất các trường từ StructType trong cột locations\n",
    "processed_df = exploded_df.select(\n",
    "    col(\"word\"),\n",
    "    col(\"location_item.doc_id\").alias(\"doc_id\"),\n",
    "    col(\"location_item.location\").alias(\"position\"),\n",
    "    col(\"location_item.frequency\").alias(\"count\")\n",
    ")\n",
    "\n",
    "# Tính điểm dựa trên vị trí\n",
    "scored_df = processed_df.withColumn(\n",
    "    \"score\",\n",
    "    when(col(\"position\") == \"revision_comment\", col(\"count\") * 5)\n",
    "    .when(col(\"position\") == \"title\", col(\"count\") * 150)\n",
    "    .otherwise(col(\"count\") * 1)\n",
    ")\n",
    "\n",
    "# Tính tổng điểm cho mỗi bài viết (doc_id)\n",
    "aggregated_df = scored_df.groupBy(\"doc_id\").agg(sum(\"score\").alias(\"total_score\"))\n",
    "\n",
    "# Sắp xếp theo tổng điểm và lấy top 3 bài viết có điểm cao nhất\n",
    "top_3_ids = aggregated_df.orderBy(col(\"total_score\").desc()).limit(5)\n",
    "\n",
    "# Hiển thị kết quả\n",
    "top_3_ids.show(truncate=False)\n"
   ]
  },
  {
   "cell_type": "code",
   "execution_count": 5,
   "metadata": {},
   "outputs": [],
   "source": [
    "spark.stop()"
   ]
  }
 ],
 "metadata": {
  "kernelspec": {
   "display_name": "bigdata",
   "language": "python",
   "name": "python3"
  },
  "language_info": {
   "codemirror_mode": {
    "name": "ipython",
    "version": 3
   },
   "file_extension": ".py",
   "mimetype": "text/x-python",
   "name": "python",
   "nbconvert_exporter": "python",
   "pygments_lexer": "ipython3",
   "version": "3.10.15"
  }
 },
 "nbformat": 4,
 "nbformat_minor": 2
}
